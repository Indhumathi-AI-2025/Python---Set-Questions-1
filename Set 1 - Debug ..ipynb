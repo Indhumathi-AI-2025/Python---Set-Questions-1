{
 "cells": [
  {
   "cell_type": "code",
   "execution_count": null,
   "id": "8e02775a",
   "metadata": {},
   "outputs": [],
   "source": [
    "#1.Find the error in the following Python code:\n",
    "\n",
    " for i in range(5)\n",
    "    print(I)\n",
    "\n",
    "#ERROR: \n",
    "#1. Syntax Error: semicolon at the end \n",
    "#2. Name Error : Temporary Variable Name is wrong\n",
    "\n",
    "#CORRECT CODE\n",
    "for i in range(5):\n",
    "     print(i)\n"
   ]
  },
  {
   "cell_type": "code",
   "execution_count": 12,
   "id": "78c91bf1-d9f9-41b1-8ca3-e2c8ee6c72df",
   "metadata": {},
   "outputs": [
    {
     "name": "stdout",
     "output_type": "stream",
     "text": [
      "0\n",
      "1\n",
      "2\n",
      "3\n",
      "4\n"
     ]
    }
   ],
   "source": [
    "#1. \n",
    "\n",
    "for i in range(5):\n",
    "     print(i)\n"
   ]
  },
  {
   "cell_type": "code",
   "execution_count": null,
   "id": "df3cee51",
   "metadata": {},
   "outputs": [],
   "source": [
    "#2.What will be the output of this code?\n",
    "\n",
    "a = 10\n",
    "b = \"5\"\n",
    "print(a + b)\n",
    "\n",
    "#OUTPUT: TypeError, because variable a is assigned to an integer data type \n",
    "# and variable b is assigned to a string data type. So TypeError occurs."
   ]
  },
  {
   "cell_type": "code",
   "execution_count": 13,
   "id": "99be6ae9-fa64-4e67-9a4e-20b230b3986e",
   "metadata": {},
   "outputs": [
    {
     "name": "stdout",
     "output_type": "stream",
     "text": [
      "15\n"
     ]
    }
   ],
   "source": [
    "#2.\n",
    "\n",
    "a = 10\n",
    "#Before it was a string, now change to integer\n",
    "b = 5\n",
    "print(a + b)"
   ]
  },
  {
   "cell_type": "code",
   "execution_count": null,
   "id": "15c2e7b2",
   "metadata": {},
   "outputs": [],
   "source": [
    "#3.What is the issue in this Python snippet?\n",
    "\n",
    " def add_numbers(a, b)\n",
    "    return a + b\n",
    "     \n",
    "#ISSUE: Syntax Error - semicolon is missing at the end."
   ]
  },
  {
   "cell_type": "code",
   "execution_count": 15,
   "id": "6fd78b26-7a9a-458a-8c25-69b03a36ea7d",
   "metadata": {},
   "outputs": [
    {
     "data": {
      "text/plain": [
       "15"
      ]
     },
     "execution_count": 15,
     "metadata": {},
     "output_type": "execute_result"
    }
   ],
   "source": [
    "#3.\n",
    "\n",
    "def add_numbers(a, b):\n",
    "    return a + b\n",
    "add_numbers(5,10)"
   ]
  },
  {
   "cell_type": "code",
   "execution_count": null,
   "id": "abd57a8a-574d-4302-9481-1be2dafeb295",
   "metadata": {},
   "outputs": [],
   "source": [
    "4.Identify the bug in the following Python code:\n",
    "\n",
    "numbers = [1, 2, 3, 4]\n",
    "print(numbers[4])\n",
    "\n",
    "#ERROR: IndexError - list is out of range\n",
    "#numbers[0] = 1\n",
    "#numbers[1] = 2\n",
    "#numbers[2] = 3\n",
    "#numbers[3] = 4\n",
    "#numbers[4] = no value. "
   ]
  },
  {
   "cell_type": "code",
   "execution_count": 16,
   "id": "6a67faa8-3926-416d-8751-982845842053",
   "metadata": {},
   "outputs": [
    {
     "name": "stdout",
     "output_type": "stream",
     "text": [
      "10\n"
     ]
    }
   ],
   "source": [
    "#4.\n",
    "\n",
    "numbers = [1, 2, 3, 4, 10]\n",
    "print(numbers[4])"
   ]
  },
  {
   "cell_type": "code",
   "execution_count": null,
   "id": "bc0080c1",
   "metadata": {},
   "outputs": [],
   "source": [
    "#5.Find the error in the following Python code:\n",
    "print \"Hello, World!\"\n",
    "\n",
    "#ERROR - open parentheses are not used in the print statement"
   ]
  },
  {
   "cell_type": "code",
   "execution_count": 17,
   "id": "75777f48-85ca-4b3f-8df8-f0cfe43b738f",
   "metadata": {},
   "outputs": [
    {
     "name": "stdout",
     "output_type": "stream",
     "text": [
      "Hello, World!\n"
     ]
    }
   ],
   "source": [
    "#5.\n",
    "\n",
    "print (\"Hello, World!\")"
   ]
  },
  {
   "cell_type": "code",
   "execution_count": null,
   "id": "5b449ecb",
   "metadata": {},
   "outputs": [],
   "source": [
    "#6.Find the error in the following Python code:\n",
    "x = 5 / 0\n",
    "\n",
    "#ZeroDivisionError"
   ]
  },
  {
   "cell_type": "code",
   "execution_count": 19,
   "id": "c0b1adef-9154-4e3b-b35f-63ea3b56f0c2",
   "metadata": {},
   "outputs": [
    {
     "name": "stdout",
     "output_type": "stream",
     "text": [
      "5.0\n"
     ]
    }
   ],
   "source": [
    "#6.\n",
    "\n",
    "x = 5 / 1\n",
    "print(x)"
   ]
  },
  {
   "cell_type": "code",
   "execution_count": null,
   "id": "79260565",
   "metadata": {},
   "outputs": [],
   "source": [
    "#7.Find the error in the following Python code:\n",
    "name = \"Alice\"\n",
    "age = 25\n",
    "print(\"Name: \" + name + \", Age: \" + age)\n",
    "\n",
    "#ERROR: TypeError - Variable name is String data type and \n",
    "#Varibale age is integer data type"
   ]
  },
  {
   "cell_type": "code",
   "execution_count": 20,
   "id": "bad1b111-61e5-4e9c-b1b7-d79d964516e8",
   "metadata": {},
   "outputs": [
    {
     "name": "stdout",
     "output_type": "stream",
     "text": [
      "Name: Alice, Age: 25\n"
     ]
    }
   ],
   "source": [
    "#7.\n",
    "\n",
    "name = \"Alice\"\n",
    "age = \"25\"\n",
    "print(\"Name: \" + name + \", Age: \" + age)"
   ]
  },
  {
   "cell_type": "code",
   "execution_count": null,
   "id": "3e4b6f3b",
   "metadata": {},
   "outputs": [],
   "source": [
    "#8.Find the error\n",
    "for i in range(1, 10, -1):\n",
    "    print(i)\n",
    "\n",
    "#ERROR: The code runs, but it does not provide any output. \n"
   ]
  },
  {
   "cell_type": "code",
   "execution_count": 21,
   "id": "cbeadf9d-db49-4fa0-a4af-3fd62df500e9",
   "metadata": {},
   "outputs": [
    {
     "name": "stdout",
     "output_type": "stream",
     "text": [
      "10\n",
      "9\n",
      "8\n",
      "7\n",
      "6\n",
      "5\n",
      "4\n",
      "3\n",
      "2\n"
     ]
    }
   ],
   "source": [
    "#8.\n",
    "\n",
    "for i in range(10, 1, -1):\n",
    "    print(i)"
   ]
  },
  {
   "cell_type": "code",
   "execution_count": null,
   "id": "95976c4d",
   "metadata": {},
   "outputs": [],
   "source": [
    "#9. Find the error in the following Python code:\n",
    "x = 10\n",
    "if x = 5:\n",
    "    print(\"x is 5\")\n",
    "\n",
    "#SyntaxError: = Assignment Operator, If you want to check the condition means\n",
    "#use == comparison operator"
   ]
  },
  {
   "cell_type": "code",
   "execution_count": 23,
   "id": "662d590a-01ab-42f2-a0ac-8bd5c1892f92",
   "metadata": {},
   "outputs": [
    {
     "name": "stdout",
     "output_type": "stream",
     "text": [
      "X is not 5, X is 10\n"
     ]
    }
   ],
   "source": [
    "#9.\n",
    "\n",
    "x = 10\n",
    "if x == 5:\n",
    "    print(\"x is 5\")\n",
    "else:\n",
    "    print(\"X is not 5, X is 10\")"
   ]
  },
  {
   "cell_type": "code",
   "execution_count": null,
   "id": "317eca50",
   "metadata": {},
   "outputs": [],
   "source": [
    "#10. Identify the error in the following function definition:\n",
    "\n",
    "def greet(name)\n",
    "    print(\"Hello, \" + name)\n",
    "\n",
    "#Semicolon is missing and the program runs with no output\n",
    "#Function calling is missing and Arguments are not passed"
   ]
  },
  {
   "cell_type": "code",
   "execution_count": 28,
   "id": "fc972fed-f6b6-43f2-a1cc-76809c597b36",
   "metadata": {},
   "outputs": [
    {
     "name": "stdout",
     "output_type": "stream",
     "text": [
      "Hello, Indhu\n"
     ]
    }
   ],
   "source": [
    "#10.\n",
    "\n",
    "def greet(name):\n",
    "    print(\"Hello, \" + name)\n",
    "greet(\"Indhu\")"
   ]
  },
  {
   "cell_type": "code",
   "execution_count": null,
   "id": "d17a6fb4-c233-4623-8f6e-79afb74a3203",
   "metadata": {},
   "outputs": [],
   "source": []
  }
 ],
 "metadata": {
  "kernelspec": {
   "display_name": "Python [conda env:base] *",
   "language": "python",
   "name": "conda-base-py"
  },
  "language_info": {
   "codemirror_mode": {
    "name": "ipython",
    "version": 3
   },
   "file_extension": ".py",
   "mimetype": "text/x-python",
   "name": "python",
   "nbconvert_exporter": "python",
   "pygments_lexer": "ipython3",
   "version": "3.12.7"
  }
 },
 "nbformat": 4,
 "nbformat_minor": 5
}
