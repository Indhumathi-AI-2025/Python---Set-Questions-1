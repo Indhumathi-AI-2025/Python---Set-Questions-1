{
 "cells": [
  {
   "cell_type": "code",
   "execution_count": null,
   "id": "8e02775a",
   "metadata": {},
   "outputs": [],
   "source": [
    "#1.Find the error in the following Python code:\n",
    "\n",
    " for i in range(5)\n",
    "    print(I)\n",
    "\n",
    "#ERROR: \n",
    "#1. Syntax Error: semicolon at the end \n",
    "#2. Name Error : Temporary Variable Name is wrong\n",
    "\n",
    "#CORRECT CODE\n",
    "for i in range(5):\n",
    "     print(i)\n"
   ]
  },
  {
   "cell_type": "code",
   "execution_count": 11,
   "id": "78d5459c-fd1f-4cff-8eaf-0fcbf7231065",
   "metadata": {},
   "outputs": [
    {
     "name": "stdout",
     "output_type": "stream",
     "text": [
      "8\n"
     ]
    },
    {
     "data": {
      "text/plain": [
       "8"
      ]
     },
     "execution_count": 11,
     "metadata": {},
     "output_type": "execute_result"
    }
   ],
   "source": [
    "def addition(a,b):\n",
    "    print(a+b)\n",
    "    return a+b\n",
    "addition(5,3)"
   ]
  },
  {
   "cell_type": "code",
   "execution_count": null,
   "id": "df3cee51",
   "metadata": {},
   "outputs": [],
   "source": [
    "#2.What will be the output of this code?\n",
    "\n",
    "a = 10\n",
    "b = \"5\"\n",
    "print(a + b)\n",
    "\n",
    "#OUTPUT: TypeError, because variable a is assigned to an integer data type \n",
    "# and variable b is assigned to a string data type. So TypeError occurs."
   ]
  },
  {
   "cell_type": "code",
   "execution_count": null,
   "id": "15c2e7b2",
   "metadata": {},
   "outputs": [],
   "source": [
    "#3.What is the issue in this Python snippet?\n",
    "\n",
    " def add_numbers(a, b)\n",
    "    return a + b\n",
    "     \n",
    "#ISSUE: Syntax Error - semicolon is missing at the end."
   ]
  },
  {
   "cell_type": "code",
   "execution_count": null,
   "id": "abd57a8a-574d-4302-9481-1be2dafeb295",
   "metadata": {},
   "outputs": [],
   "source": [
    "4.Identify the bug in the following Python code:\n",
    "\n",
    "numbers = [1, 2, 3, 4]\n",
    "print(numbers[4])\n",
    "\n",
    "#ERROR: IndexError - list is out of range\n",
    "#numbers[0] = 1\n",
    "#numbers[1] = 2\n",
    "#numbers[2] = 3\n",
    "#numbers[3] = 4\n",
    "#numbers[4] = no value. "
   ]
  },
  {
   "cell_type": "code",
   "execution_count": null,
   "id": "bc0080c1",
   "metadata": {},
   "outputs": [],
   "source": [
    "#5.Find the error in the following Python code:\n",
    "print \"Hello, World!\"\n",
    "\n",
    "#ERROR - open parentheses are not used in the print statement"
   ]
  },
  {
   "cell_type": "code",
   "execution_count": null,
   "id": "5b449ecb",
   "metadata": {},
   "outputs": [],
   "source": [
    "#6.Find the error in the following Python code:\n",
    "x = 5 / 0\n",
    "\n",
    "#ZeroDivisionError"
   ]
  },
  {
   "cell_type": "code",
   "execution_count": null,
   "id": "79260565",
   "metadata": {},
   "outputs": [],
   "source": [
    "#7.Find the error in the following Python code:\n",
    "name = \"Alice\"\n",
    "age = 25\n",
    "print(\"Name: \" + name + \", Age: \" + age)\n",
    "\n",
    "#ERROR: TypeError - Variable name is String data type and \n",
    "#Varibale age is integer data type"
   ]
  },
  {
   "cell_type": "code",
   "execution_count": null,
   "id": "3e4b6f3b",
   "metadata": {},
   "outputs": [],
   "source": [
    "#8.Find the error\n",
    "for i in range(1, 10, -1):\n",
    "    print(i)\n",
    "\n",
    "#ERROR: The code runs, but it does not provide any output. \n"
   ]
  },
  {
   "cell_type": "code",
   "execution_count": null,
   "id": "95976c4d",
   "metadata": {},
   "outputs": [],
   "source": [
    "#9. Find the error in the following Python code:\n",
    "x = 10\n",
    "if x = 5:\n",
    "    print(\"x is 5\")\n",
    "\n",
    "#SyntaxError: = Assignment Operator, If you want to check the condition means\n",
    "#use == comparison operator"
   ]
  },
  {
   "cell_type": "code",
   "execution_count": null,
   "id": "317eca50",
   "metadata": {},
   "outputs": [],
   "source": [
    "#10. Identify the error in the following function definition:\n",
    "\n",
    "def greet(name)\n",
    "    print(\"Hello, \" + name)\n",
    "\n",
    "#Semicolon is missing and the program runs with no output\n",
    "#Function calling is missing and Arguments are not passed"
   ]
  }
 ],
 "metadata": {
  "kernelspec": {
   "display_name": "Python [conda env:base] *",
   "language": "python",
   "name": "conda-base-py"
  },
  "language_info": {
   "codemirror_mode": {
    "name": "ipython",
    "version": 3
   },
   "file_extension": ".py",
   "mimetype": "text/x-python",
   "name": "python",
   "nbconvert_exporter": "python",
   "pygments_lexer": "ipython3",
   "version": "3.12.7"
  }
 },
 "nbformat": 4,
 "nbformat_minor": 5
}
