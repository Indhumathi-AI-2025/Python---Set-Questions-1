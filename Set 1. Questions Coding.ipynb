{
 "cells": [
  {
   "cell_type": "code",
   "execution_count": 11,
   "id": "e3d55809-7db0-4522-8993-d8fe4b6dd6fc",
   "metadata": {},
   "outputs": [
    {
     "name": "stdin",
     "output_type": "stream",
     "text": [
      "Enter Your Age: 12\n"
     ]
    },
    {
     "name": "stdout",
     "output_type": "stream",
     "text": [
      "Your Age is: 12\n",
      "You are Not Eligible to Vote\n"
     ]
    }
   ],
   "source": [
    "#1. Scenario: A system checks if a user is eligible to vote based on their age.\n",
    "#Write logic to ask the user for their age and \n",
    "#determine if they are eligible to vote based on whether they are 18 or older.\n",
    "\n",
    "age = int(input(\"Enter Your Age:\"))\n",
    "if(age>=18):\n",
    "    print(\"Your Age is:\", age )\n",
    "    print(\"You are Eligible to Vote\")\n",
    "else:\n",
    "    print(\"Your Age is:\" ,age )\n",
    "    print(\"You are Not Eligible to Vote\")"
   ]
  },
  {
   "cell_type": "code",
   "execution_count": 17,
   "id": "a4cf04b3-05e3-4181-b826-659b4dcb079e",
   "metadata": {},
   "outputs": [
    {
     "name": "stdout",
     "output_type": "stream",
     "text": [
      "100\n"
     ]
    }
   ],
   "source": [
    "#2. Scenario: A program processes a list of numbers and needs to find the largest value.\n",
    "#Write logic to identify and return the largest number from a given list.\n",
    "\n",
    "number = [50,10,35,100,5,75]\n",
    "#Ascending Order\n",
    "largest_number = sorted(number)\n",
    "#Descending Order\n",
    "largest_number = sorted(number, reverse = True)\n",
    "#print the 1st number\n",
    "print(largest_number[0])"
   ]
  },
  {
   "cell_type": "code",
   "execution_count": 21,
   "id": "34e8d183-cfb3-44ea-9e85-f40a8dc54387",
   "metadata": {},
   "outputs": [
    {
     "name": "stdin",
     "output_type": "stream",
     "text": [
      "Enter Your Salary: 51000\n"
     ]
    },
    {
     "name": "stdout",
     "output_type": "stream",
     "text": [
      "You are Eligible for 10% Bonus\n",
      "Your Bonus Amount is: 5100\n"
     ]
    }
   ],
   "source": [
    "#3. Scenario: A company provides employees with a 10% bonus if \n",
    "#their salary exceeds $50,000.\n",
    "#Write logic to determine the bonus amount based on the given salary.\n",
    "\n",
    "emp_sal = int(input(\"Enter Your Salary:\"))\n",
    "#Check condition for a 10% bonus\n",
    "if(emp_sal>50000):\n",
    "    print(\"You are Eligible for 10% Bonus\")\n",
    "else:\n",
    "    print(\"You are Not Eligible for 10% Bonus\")\n",
    "#Calculate Bonus\n",
    "bonus_amt = (emp_sal*10)//100\n",
    "print(\"Your Bonus Amount is:\", bonus_amt)"
   ]
  },
  {
   "cell_type": "code",
   "execution_count": 24,
   "id": "9b1b407c-c30f-4ea3-97e7-ad8ce8221280",
   "metadata": {},
   "outputs": [
    {
     "name": "stdin",
     "output_type": "stream",
     "text": [
      "Enter the Number:  45\n"
     ]
    },
    {
     "name": "stdout",
     "output_type": "stream",
     "text": [
      "The Given Number is Odd\n"
     ]
    }
   ],
   "source": [
    "#4. Scenario: A program evaluates a number to determine if it is even or odd.\n",
    "#Write logic to check whether a given number is even or odd.\n",
    "\n",
    "number = int(input(\"Enter the Number: \"))\n",
    "if(number%3==0):\n",
    "    print(\"The Given Number is Odd\")\n",
    "else:\n",
    "    print(\"The Given Number is Even\")"
   ]
  },
  {
   "cell_type": "code",
   "execution_count": 26,
   "id": "b22a9360-db3a-43de-8406-57c6e65aaf0a",
   "metadata": {},
   "outputs": [
    {
     "name": "stdin",
     "output_type": "stream",
     "text": [
      "Enter a Word: Artificial Intelligence\n",
      "Enter a Sentence: AI is the Future\n"
     ]
    },
    {
     "name": "stdout",
     "output_type": "stream",
     "text": [
      "ecnegilletnI laicifitrA\n",
      "erutuF eht si IA\n"
     ]
    }
   ],
   "source": [
    "#5.Scenario: A text-processing tool reverses a given word or \n",
    "#sentence for formatting purposes.\n",
    "#Write logic to take a word or sentence as input and produce its reversed version.\n",
    "\n",
    "#Word\n",
    "word = input(\"Enter a Word:\")\n",
    "#Sequence\n",
    "seq = input(\"Enter a Sentence:\")\n",
    "#\n",
    "word_rev = word[::-1]\n",
    "word_seq = seq[::-1]\n",
    "print(word_rev)\n",
    "print(word_seq)"
   ]
  },
  {
   "cell_type": "code",
   "execution_count": 28,
   "id": "f5b2dcbd-d7a2-4cb7-a4d4-6e7441b3cb2d",
   "metadata": {},
   "outputs": [
    {
     "name": "stdin",
     "output_type": "stream",
     "text": [
      "Enter your Marks: 55\n"
     ]
    },
    {
     "name": "stdout",
     "output_type": "stream",
     "text": [
      "You are Passed:\n"
     ]
    }
   ],
   "source": [
    "#6. Scenario: A grading system determines whether a student has passed \n",
    "#or failed based on their score.\n",
    "#Write logic to check if a student has passed a subject by scoring at least 40 marks.\n",
    "\n",
    "marks = int(input(\"Enter your Marks:\"))\n",
    "if(marks>=40):\n",
    "    print(\"You are Passed:\")\n",
    "else:\n",
    "    print(\"You are not Passed:\")"
   ]
  },
  {
   "cell_type": "code",
   "execution_count": 86,
   "id": "2edfb4e4-36fd-43e8-bdc0-6b72f5dcdffb",
   "metadata": {},
   "outputs": [
    {
     "name": "stdin",
     "output_type": "stream",
     "text": [
      "Enter your Order Price:  101\n"
     ]
    },
    {
     "name": "stdout",
     "output_type": "stream",
     "text": [
      "Your Order Exceeds 100 & You Got 20% Discount\n",
      "Your Discount Price is:  20.200000000000003\n",
      "Your Total Price is:  80.8\n"
     ]
    }
   ],
   "source": [
    "#7. Scenario: A retail store offers a 20% discount \n",
    "#if a customer’s total order exceeds $100.\n",
    "#Write logic to calculate the final amount to be paid after applying the discount.\n",
    "\n",
    "total_order = int(input(\"Enter your Order Price: \"))\n",
    "if(total_order>100):\n",
    "    print(\"Your Order Exceeds 100 & You Got 20% Discount\")\n",
    "    #Discount\n",
    "    discount_price = total_order*0.2\n",
    "    print(\"Your Discount Price is: \", discount_price)\n",
    "    #Price After Discount\n",
    "    total_price = total_order - discount_price\n",
    "    print(\"Your Total Price is: \", total_price)\n",
    "else:\n",
    "    print(\"Your Total Order Price is: \", total_order)\n"
   ]
  },
  {
   "cell_type": "code",
   "execution_count": 35,
   "id": "7f72b974-83ca-4a66-86a9-5935ec10bf1a",
   "metadata": {},
   "outputs": [
    {
     "name": "stdin",
     "output_type": "stream",
     "text": [
      "Enter Your Account Balance:  5000\n",
      "Enter Your Withdrawal Amount:  6000\n"
     ]
    },
    {
     "name": "stdout",
     "output_type": "stream",
     "text": [
      "Insufficient Balance\n"
     ]
    }
   ],
   "source": [
    "#8. A banking system processes withdrawal requests and ensures \n",
    "#the user has enough balance.\n",
    "#Write logic to check if a user has enough balance before allowing a withdrawal, \n",
    "#and update the remaining balance accordingly.\n",
    "\n",
    "account_balance = int(input(\"Enter Your Account Balance: \"))\n",
    "withdrawal = int(input(\"Enter Your Withdrawal Amount: \"))\n",
    "if(withdrawal<account_balance):\n",
    "    balance_amount = account_balance - withdrawal\n",
    "    print(\"Your Balance Amount is:\", balance_amount)\n",
    "else:\n",
    "    print(\"Insufficient Balance\")"
   ]
  },
  {
   "cell_type": "code",
   "execution_count": 67,
   "id": "42e7ad88-e7c2-48b5-bdd4-0cbdaff0349a",
   "metadata": {},
   "outputs": [
    {
     "name": "stdin",
     "output_type": "stream",
     "text": [
      "Enter the Year: 1900\n"
     ]
    }
   ],
   "source": [
    "#9.Scenario: A calendar system verifies \n",
    "#whether a given year is a leap year based on standard leap year rules.\n",
    "#Write logic to determine whether a given year is a leap year.\n",
    "\n",
    "year = int(input(\"Enter the Year:\"))\n",
    "if(year%4==0):\n",
    "  if ((year % 100 != 0) or (year % 400 == 0)):\n",
    "    print(\"The Given Number is a Leap Year\")\n",
    "else:\n",
    "    print(\"The Given Number is Not a Leap Year\")"
   ]
  },
  {
   "cell_type": "code",
   "execution_count": 61,
   "id": "225b2b0e-303c-4941-b937-9a5c709265fb",
   "metadata": {},
   "outputs": [
    {
     "name": "stdout",
     "output_type": "stream",
     "text": [
      "0\n",
      "4\n",
      "82\n",
      "100\n",
      "98\n"
     ]
    }
   ],
   "source": [
    "#10. Scenario: A program filters out only even numbers from a given list.\n",
    "\n",
    "number = [0,4,82,31,77,100,7,98]\n",
    "for i in number:\n",
    "    if(i%2==0):\n",
    "        print(i)\n"
   ]
  },
  {
   "cell_type": "code",
   "execution_count": null,
   "id": "d2225f0d-677a-4102-9c27-9f1557ee2810",
   "metadata": {},
   "outputs": [],
   "source": []
  }
 ],
 "metadata": {
  "kernelspec": {
   "display_name": "Python [conda env:base] *",
   "language": "python",
   "name": "conda-base-py"
  },
  "language_info": {
   "codemirror_mode": {
    "name": "ipython",
    "version": 3
   },
   "file_extension": ".py",
   "mimetype": "text/x-python",
   "name": "python",
   "nbconvert_exporter": "python",
   "pygments_lexer": "ipython3",
   "version": "3.12.7"
  }
 },
 "nbformat": 4,
 "nbformat_minor": 5
}
